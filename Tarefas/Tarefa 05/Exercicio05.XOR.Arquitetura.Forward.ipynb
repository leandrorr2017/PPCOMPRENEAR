{
 "cells": [
  {
   "cell_type": "markdown",
   "metadata": {},
   "source": [
    "### Redes Neurais Artificiais - IFES - PPCOMP\n",
    "### Exercicio 05\n",
    "### Arquitetura capaz de resolver um problema XOR (forward)\n"
   ]
  },
  {
   "cell_type": "code",
   "execution_count": 45,
   "metadata": {},
   "outputs": [],
   "source": [
    "import sklearn\n",
    "import numpy as np\n",
    "\n",
    "from sklearn.base import BaseEstimator,ClassifierMixin\n",
    "\n",
    "%matplotlib inline\n",
    "import matplotlib as mpl\n",
    "import matplotlib.pyplot as plt"
   ]
  },
  {
   "cell_type": "code",
   "execution_count": 46,
   "metadata": {},
   "outputs": [
    {
     "name": "stdout",
     "output_type": "stream",
     "text": [
      "Versão do scikit-learn 0.21.2.\n"
     ]
    }
   ],
   "source": [
    "print('Versão do scikit-learn {}.'.format(sklearn.__version__))"
   ]
  },
  {
   "cell_type": "code",
   "execution_count": 47,
   "metadata": {},
   "outputs": [],
   "source": [
    "# Combinações de entradas - XOR\n",
    "X = np.array([\n",
    "    [0, 1],\n",
    "    [1, 0],\n",
    "    [1, 1],\n",
    "    [0, 0]\n",
    "])"
   ]
  },
  {
   "cell_type": "code",
   "execution_count": 48,
   "metadata": {},
   "outputs": [],
   "source": [
    "# Labels (y) - XOR\n",
    "y = np.array([1,1,0,0])"
   ]
  },
  {
   "cell_type": "code",
   "execution_count": 49,
   "metadata": {},
   "outputs": [
    {
     "data": {
      "text/plain": [
       "(4, 2)"
      ]
     },
     "execution_count": 49,
     "metadata": {},
     "output_type": "execute_result"
    }
   ],
   "source": [
    "X.shape"
   ]
  },
  {
   "cell_type": "code",
   "execution_count": 50,
   "metadata": {},
   "outputs": [
    {
     "data": {
      "text/plain": [
       "(4,)"
      ]
     },
     "execution_count": 50,
     "metadata": {},
     "output_type": "execute_result"
    }
   ],
   "source": [
    "y.shape"
   ]
  },
  {
   "cell_type": "markdown",
   "metadata": {},
   "source": [
    "### Arquitetura de Referência"
   ]
  },
  {
   "cell_type": "markdown",
   "metadata": {},
   "source": [
    "![title](img/mlp-forward.svg)"
   ]
  },
  {
   "cell_type": "code",
   "execution_count": 51,
   "metadata": {},
   "outputs": [],
   "source": [
    "#funcoes de ativação\n",
    "\n",
    "def sigmoid(x):\n",
    "    return 1 / (1 + np.exp(-1* x))\n",
    "\n",
    "def sigmoid_deriv(x):\n",
    "    return x * (1 - x)\n",
    "\n",
    "def tanh(x):\n",
    "    return (1.0 - np.exp(-2*x))/(1.0 + np.exp(-2*x))\n",
    "\n",
    "def tanh_deriv(x):\n",
    "    return (1 + x)*(1 - x)"
   ]
  },
  {
   "cell_type": "code",
   "execution_count": 52,
   "metadata": {},
   "outputs": [],
   "source": [
    "class SolverXorForward(BaseEstimator, ClassifierMixin):\n",
    "    \n",
    "    def __init__(self):\n",
    "        \n",
    "        # Pesos - inicialização randomica (serão usados na implementação da fase bacward)        \n",
    "        #self.W1 = np.random.uniform(-1, 1, (2, 2)) # 2x2 - entrada x escondida\n",
    "        #self.W2 = np.random.uniform(-1, 1, (1, 2)) # 1x2 - escondida x saida\n",
    "        \n",
    "        # Bias associados - inicialização randomica (serão usados na implementação da fase backward)\n",
    "        #self.W1bias = np.random.random((2, 1)) # 2x1\n",
    "        #self.W2bias = np.random.random((1, 1)) # 1x1\n",
    "        \n",
    "        # Pesos manuais\n",
    "        self.W1=np.array([[-7.98691197,  7.80228261],\n",
    "                          [ 7.24071749, -7.55675496]])\n",
    "        self.W2=np.array([[14.71044493, 14.81647932]])        \n",
    "        \n",
    "        # Bias manuais\n",
    "        self.W1bias=np.array([[-4.22584175],[-3.906862  ]])\n",
    "        self.W2bias=np.array([[-7.27388762]])\n",
    "        return\n",
    "    \n",
    "    def predict_1(self, x):    \n",
    "        a1 = x.reshape(x.shape[0], 1)\n",
    "        z2 = self.W1.dot(a1) + self.W1bias\n",
    "        a2 = sigmoid(z2)\n",
    "        z3 = self.W2.dot(a2) + self.W2bias\n",
    "        a3 = sigmoid(z3)\n",
    "        return a3[0]\n",
    "\n",
    "    def predict(self,X):\n",
    "        Y = np.array([]).reshape(0, 1)\n",
    "        for x in X:\n",
    "            y = np.array([self.predict_1(x)])\n",
    "            Y = np.vstack((Y,y))\n",
    "        return Y       \n",
    "            \n",
    "    def fit(self, X, y):\n",
    "\n",
    "        for j in range(X.shape[0]):\n",
    "            # Implementação do Forward\n",
    "            a1 = X[j].reshape(X[j].shape[0], 1)\n",
    "            z2 = self.W1.dot(a1) + self.W1bias\n",
    "            a2 = sigmoid(z2)\n",
    "            z3 = self.W2.dot(a2) + self.W2bias\n",
    "            a3 = sigmoid(z3)\n",
    "            \n",
    "        return self"
   ]
  },
  {
   "cell_type": "code",
   "execution_count": 53,
   "metadata": {},
   "outputs": [
    {
     "data": {
      "text/plain": [
       "SolverXorForward()"
      ]
     },
     "execution_count": 53,
     "metadata": {},
     "output_type": "execute_result"
    }
   ],
   "source": [
    "clf = SolverXorForward()\n",
    "clf.fit(X,y)"
   ]
  },
  {
   "cell_type": "code",
   "execution_count": 54,
   "metadata": {},
   "outputs": [
    {
     "name": "stdout",
     "output_type": "stream",
     "text": [
      "Predição com fase Forward\n",
      "[0 1] [0.99912147]\n",
      "[1 0] [0.99911811]\n",
      "[1 1] [0.00102371]\n",
      "[0 0] [0.00114635]\n"
     ]
    }
   ],
   "source": [
    "print(\"Predição com fase Forward\")\n",
    "for x in X:\n",
    "    print(x, clf.predict_1(x))"
   ]
  },
  {
   "cell_type": "code",
   "execution_count": 55,
   "metadata": {},
   "outputs": [
    {
     "data": {
      "text/plain": [
       "array([[0.99912147],\n",
       "       [0.99911811],\n",
       "       [0.00102371],\n",
       "       [0.00114635]])"
      ]
     },
     "execution_count": 55,
     "metadata": {},
     "output_type": "execute_result"
    }
   ],
   "source": [
    "clf.predict(X)"
   ]
  },
  {
   "cell_type": "code",
   "execution_count": 56,
   "metadata": {},
   "outputs": [],
   "source": [
    "#Plot de Fronteira de decisão para o ELM implementado\n",
    "#Referência: https://towardsdatascience.com/easily-visualize-scikit-learn-models-decision-boundaries-dd0fb3747508\n",
    "\n",
    "def plot_decision_boundaries(X, y, model_class, **model_params):\n",
    "    try:\n",
    "        X = np.array(X)\n",
    "        y = np.array(y).flatten()\n",
    "    except:\n",
    "        print(\"Coercing input data to NumPy arrays failed\")\n",
    "    reduced_data = X[:, :2]\n",
    "    model = model_class(**model_params)\n",
    "    model.fit(reduced_data, y)\n",
    "    h = .02     # point in the mesh [x_min, m_max]x[y_min, y_max].    \n",
    "    x_min, x_max = reduced_data[:, 0].min() - 1, reduced_data[:, 0].max() + 1\n",
    "    y_min, y_max = reduced_data[:, 1].min() - 1, reduced_data[:, 1].max() + 1\n",
    "    xx, yy = np.meshgrid(np.arange(x_min, x_max, h), np.arange(y_min, y_max, h))\n",
    "    Z = model.predict(np.c_[xx.ravel(), yy.ravel()])    \n",
    "    x_min, x_max = X[:, 0].min() - 1, X[:, 0].max() + 1\n",
    "    y_min, y_max = X[:, 1].min() - 1, X[:, 1].max() + 1\n",
    "    xx, yy = np.meshgrid(np.arange(x_min, x_max, 0.1),\n",
    "                         np.arange(y_min, y_max, 0.1))\n",
    "    Z = model.predict(np.c_[xx.ravel(), yy.ravel()]).reshape(xx.shape)\n",
    "    plt.contourf(xx, yy, Z, alpha=0.4)\n",
    "    plt.scatter(X[:, 0], X[:, 1], c=y, alpha=0.8)\n",
    "    plt.xlabel(\"Feature-1\",fontsize=15)\n",
    "    plt.ylabel(\"Feature-2\",fontsize=15)\n",
    "    plt.xticks(fontsize=14)\n",
    "    plt.yticks(fontsize=14)\n",
    "    return plt"
   ]
  },
  {
   "cell_type": "code",
   "execution_count": 57,
   "metadata": {},
   "outputs": [
    {
     "data": {
      "text/plain": [
       "<module 'matplotlib.pyplot' from 'C:\\\\Users\\\\leandro\\\\Anaconda3\\\\lib\\\\site-packages\\\\matplotlib\\\\pyplot.py'>"
      ]
     },
     "execution_count": 57,
     "metadata": {},
     "output_type": "execute_result"
    },
    {
     "data": {
      "image/png": "[encoded data removed]",
      "text/plain": [
       "<Figure size 432x288 with 1 Axes>"
      ]
     },
     "metadata": {
      "needs_background": "light"
     },
     "output_type": "display_data"
    }
   ],
   "source": [
    "plot_decision_boundaries(X, y, SolverXorForward)"
   ]
  },
  {
   "cell_type": "code",
   "execution_count": null,
   "metadata": {},
   "outputs": [],
   "source": []
  }
 ],
 "metadata": {
  "kernelspec": {
   "display_name": "Python 3",
   "language": "python",
   "name": "python3"
  },
  "language_info": {
   "codemirror_mode": {
    "name": "ipython",
    "version": 3
   },
   "file_extension": ".py",
   "mimetype": "text/x-python",
   "name": "python",
   "nbconvert_exporter": "python",
   "pygments_lexer": "ipython3",
   "version": "3.7.3"
  }
 },
 "nbformat": 4,
 "nbformat_minor": 2
}
