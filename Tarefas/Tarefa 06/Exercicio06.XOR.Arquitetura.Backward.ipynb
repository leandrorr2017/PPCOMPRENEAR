{
 "cells": [
  {
   "cell_type": "markdown",
   "metadata": {},
   "source": [
    "### Redes Neurais Artificiais - IFES - PPCOMP\n",
    "### Exercicio 06\n",
    "### Arquitetura capaz de resolver um problema XOR (backward)\n"
   ]
  },
  {
   "cell_type": "code",
   "execution_count": 536,
   "metadata": {},
   "outputs": [],
   "source": [
    "import sklearn\n",
    "import numpy as np\n",
    "\n",
    "from sklearn.base import BaseEstimator,ClassifierMixin\n",
    "\n",
    "from sklearn.model_selection import train_test_split\n",
    "from sklearn.model_selection import cross_val_score\n",
    "from sklearn.model_selection import KFold\n",
    "\n",
    "from sklearn.metrics import accuracy_score,confusion_matrix\n",
    "from sklearn.metrics import mean_squared_error\n",
    "\n",
    "%matplotlib inline\n",
    "import matplotlib as mpl\n",
    "import matplotlib.pyplot as plt"
   ]
  },
  {
   "cell_type": "code",
   "execution_count": 537,
   "metadata": {},
   "outputs": [
    {
     "name": "stdout",
     "output_type": "stream",
     "text": [
      "Versão do scikit-learn 0.21.2.\n"
     ]
    }
   ],
   "source": [
    "print('Versão do scikit-learn {}.'.format(sklearn.__version__))"
   ]
  },
  {
   "cell_type": "code",
   "execution_count": 538,
   "metadata": {},
   "outputs": [],
   "source": [
    "# Combinações de entradas - XOR\n",
    "X = np.array([\n",
    "    [0, 1],\n",
    "    [1, 0],\n",
    "    [1, 1],\n",
    "    [0, 0]\n",
    "])"
   ]
  },
  {
   "cell_type": "code",
   "execution_count": 539,
   "metadata": {},
   "outputs": [],
   "source": [
    "# Labels (y) - XOR\n",
    "y = np.array([1,1,0,0])"
   ]
  },
  {
   "cell_type": "code",
   "execution_count": 540,
   "metadata": {},
   "outputs": [
    {
     "data": {
      "text/plain": [
       "(4, 2)"
      ]
     },
     "execution_count": 540,
     "metadata": {},
     "output_type": "execute_result"
    }
   ],
   "source": [
    "X.shape"
   ]
  },
  {
   "cell_type": "code",
   "execution_count": 541,
   "metadata": {},
   "outputs": [
    {
     "data": {
      "text/plain": [
       "(4,)"
      ]
     },
     "execution_count": 541,
     "metadata": {},
     "output_type": "execute_result"
    }
   ],
   "source": [
    "y.shape"
   ]
  },
  {
   "cell_type": "markdown",
   "metadata": {},
   "source": [
    "### Arquitetura de Referência"
   ]
  },
  {
   "cell_type": "markdown",
   "metadata": {},
   "source": [
    "![title](img/mlp-backward.svg)"
   ]
  },
  {
   "cell_type": "code",
   "execution_count": 542,
   "metadata": {},
   "outputs": [],
   "source": [
    "#funcoes de ativação\n",
    "\n",
    "def sigmoid(x):\n",
    "    return 1 / (1 + np.exp(-1* x))\n",
    "\n",
    "def sigmoid_deriv(x):\n",
    "    return x * (1 - x)\n",
    "\n",
    "def tanh(x):\n",
    "    return (1.0 - np.exp(-2*x))/(1.0 + np.exp(-2*x))\n",
    "\n",
    "def tanh_deriv(x):\n",
    "    return (1 + x)*(1 - x)"
   ]
  },
  {
   "cell_type": "code",
   "execution_count": 543,
   "metadata": {},
   "outputs": [],
   "source": [
    "class SolverXorForwardBackward(BaseEstimator, ClassifierMixin):\n",
    "    \n",
    "    def __init__(self,e=100000,learning_rate=0.1):\n",
    "        self.epoch=e\n",
    "        self.lr=learning_rate\n",
    "\n",
    "        # Pesos \n",
    "        self.W1 = np.random.normal(0, 1, (2, 2)) # 2x2 - entrada x escondida\n",
    "        self.W2 = np.random.normal(0, 1, (1, 2)) # 1x2 - escondida x saida        \n",
    "        # Bias associados\n",
    "        self.W1bias = np.random.random((2, 1)) # 2x1\n",
    "        self.W2bias = np.random.random((1, 1)) # 1x1\n",
    "        return\n",
    "    \n",
    "    def predict_1(self, x):    \n",
    "        a1 = x.reshape(x.shape[0], 1)\n",
    "        z2 = self.W1.dot(a1) + self.W1bias\n",
    "        a2 = tanh(z2)\n",
    "        z3 = self.W2.dot(a2) + self.W2bias\n",
    "        a3 = tanh(z3)\n",
    "        return a3[0]\n",
    "\n",
    "    def predict(self,X):\n",
    "        Y = np.array([]).reshape(0, 1)\n",
    "        for x in X:\n",
    "            y = np.array([self.predict_1(x)])\n",
    "            Y = np.vstack((Y,y))\n",
    "        return Y       \n",
    "            \n",
    "    def fit(self, X, y):\n",
    "\n",
    "        for i in range(self.epoch):            \n",
    "            dW1 = 0\n",
    "            dW2 = 0\n",
    "            dB1 = 0\n",
    "            dB2 = 0                        \n",
    "            for j in range(X.shape[0]):\n",
    "                \n",
    "                # Implementação do Forward\n",
    "                a1 = X[j].reshape(X[j].shape[0], 1)\n",
    "                z2 = self.W1.dot(a1) + self.W1bias \n",
    "                a2 = tanh(z2)\n",
    "                z3 = self.W2.dot(a2) + self.W2bias \n",
    "                a3 = tanh(z3)                \n",
    "                \n",
    "                # Implementação do backward\n",
    "                dz3 = a3 - y[j] \n",
    "                dW2 += dz3 * a2.T                \n",
    "                dz2 = np.multiply((self.W2.T * dz3), tanh_deriv(a2)) \n",
    "                dW1 += dz2.dot(a1.T)                 \n",
    "                dB1 += dz2\n",
    "                dB2 += dz3\n",
    "            self.W1 = self.W1 - self.lr * (dW1 / X.shape[0])  \n",
    "            self.W2 = self.W2 - self.lr * (dW2 / X.shape[0])  \n",
    "            self.W1bias = self.W1bias - self.lr * (dB1 / X.shape[0])\n",
    "            self.W2bias = self.W2bias - self.lr * (dB2 / X.shape[0])\n",
    "        return self    "
   ]
  },
  {
   "cell_type": "code",
   "execution_count": 544,
   "metadata": {},
   "outputs": [
    {
     "data": {
      "text/plain": [
       "SolverXorForwardBackward(e=None, learning_rate=None)"
      ]
     },
     "execution_count": 544,
     "metadata": {},
     "output_type": "execute_result"
    }
   ],
   "source": [
    "clf = SolverXorForwardBackward()\n",
    "clf.fit(X,y)"
   ]
  },
  {
   "cell_type": "code",
   "execution_count": 550,
   "metadata": {},
   "outputs": [],
   "source": [
    "#Plot de Fronteira de decisão para o ELM implementado\n",
    "#Referência: https://towardsdatascience.com/easily-visualize-scikit-learn-models-decision-boundaries-dd0fb3747508\n",
    "\n",
    "def plot_decision_boundaries(X, y, model_class, **model_params):\n",
    "    try:\n",
    "        X = np.array(X)\n",
    "        y = np.array(y).flatten()\n",
    "    except:\n",
    "        print(\"Coercing input data to NumPy arrays failed\")\n",
    "    reduced_data = X[:, :2]\n",
    "    model = model_class(**model_params)\n",
    "    model.fit(reduced_data, y)\n",
    "    h = .02     # point in the mesh [x_min, m_max]x[y_min, y_max].    \n",
    "    x_min, x_max = reduced_data[:, 0].min() - 1, reduced_data[:, 0].max() + 1\n",
    "    y_min, y_max = reduced_data[:, 1].min() - 1, reduced_data[:, 1].max() + 1\n",
    "    xx, yy = np.meshgrid(np.arange(x_min, x_max, h), np.arange(y_min, y_max, h))\n",
    "    Z = model.predict(np.c_[xx.ravel(), yy.ravel()])    \n",
    "    x_min, x_max = X[:, 0].min() - 1, X[:, 0].max() + 1\n",
    "    y_min, y_max = X[:, 1].min() - 1, X[:, 1].max() + 1\n",
    "    xx, yy = np.meshgrid(np.arange(x_min, x_max, 0.1),\n",
    "                         np.arange(y_min, y_max, 0.1))\n",
    "    Z = model.predict(np.c_[xx.ravel(), yy.ravel()]).reshape(xx.shape)\n",
    "    plt.contourf(xx, yy, Z, alpha=0.4)\n",
    "    plt.scatter(X[:, 0], X[:, 1], c=y, alpha=0.8)\n",
    "    plt.xlabel(\"Feature-1\",fontsize=15)\n",
    "    plt.ylabel(\"Feature-2\",fontsize=15)\n",
    "    plt.xticks(fontsize=14)\n",
    "    plt.yticks(fontsize=14)\n",
    "    return plt"
   ]
  },
  {
   "cell_type": "code",
   "execution_count": 549,
   "metadata": {},
   "outputs": [
    {
     "name": "stdout",
     "output_type": "stream",
     "text": [
      "Predição com fase Forward+Backward\n",
      "[0 1] [0.99983717]\n",
      "[1 0] [0.99984005]\n",
      "[1 1] [5.21964833e-05]\n",
      "[0 0] [7.66415145e-05]\n"
     ]
    }
   ],
   "source": [
    "print(\"Predição com fase Forward+Backward\")\n",
    "for x in X:\n",
    "    print(x, clf.predict_1(x))"
   ]
  },
  {
   "cell_type": "code",
   "execution_count": 547,
   "metadata": {},
   "outputs": [
    {
     "data": {
      "text/plain": [
       "<module 'matplotlib.pyplot' from 'C:\\\\Users\\\\leandro\\\\Anaconda3\\\\lib\\\\site-packages\\\\matplotlib\\\\pyplot.py'>"
      ]
     },
     "execution_count": 547,
     "metadata": {},
     "output_type": "execute_result"
    },
    {
     "data": {
      "image/png": "[encoded data removed]",
      "text/plain": [
       "<Figure size 432x288 with 1 Axes>"
      ]
     },
     "metadata": {
      "needs_background": "light"
     },
     "output_type": "display_data"
    }
   ],
   "source": [
    "plot_decision_boundaries(X, y, SolverXorForwardBackward)"
   ]
  },
  {
   "cell_type": "code",
   "execution_count": null,
   "metadata": {},
   "outputs": [],
   "source": []
  },
  {
   "cell_type": "code",
   "execution_count": null,
   "metadata": {},
   "outputs": [],
   "source": []
  }
 ],
 "metadata": {
  "kernelspec": {
   "display_name": "Python 3",
   "language": "python",
   "name": "python3"
  },
  "language_info": {
   "codemirror_mode": {
    "name": "ipython",
    "version": 3
   },
   "file_extension": ".py",
   "mimetype": "text/x-python",
   "name": "python",
   "nbconvert_exporter": "python",
   "pygments_lexer": "ipython3",
   "version": "3.7.3"
  }
 },
 "nbformat": 4,
 "nbformat_minor": 2
}
