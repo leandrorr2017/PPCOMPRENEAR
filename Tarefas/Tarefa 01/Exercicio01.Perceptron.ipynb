{
 "cells": [
  {
   "cell_type": "markdown",
   "metadata": {},
   "source": [
    "### Redes Neurais Artificiais - IFES - PPCOMP\n",
    "### Exercicio 01\n",
    "### Implementação do Perceptron\n",
    "### Validação com Dataset Breast Cancer - Comparação com outros Classificadores (*)\n",
    "\n",
    "##### (*) Utilizada a implementação do PerformanceEvaluator desenvolvido na disciplina de Reconhecimento de Padrões"
   ]
  },
  {
   "cell_type": "code",
   "execution_count": 49,
   "metadata": {},
   "outputs": [],
   "source": [
    "import time\n",
    "import sklearn\n",
    "import numpy as np\n",
    "\n",
    "from sklearn.base import BaseEstimator,ClassifierMixin\n",
    "\n",
    "from sklearn.datasets import load_breast_cancer\n",
    "\n",
    "from sklearn.pipeline import Pipeline\n",
    "\n",
    "from sklearn.preprocessing import StandardScaler\n",
    "\n",
    "from sklearn.model_selection import train_test_split\n",
    "from sklearn.model_selection import RandomizedSearchCV\n",
    "from sklearn.model_selection import GridSearchCV\n",
    "from sklearn.model_selection import cross_val_score\n",
    "from sklearn.model_selection import KFold\n",
    "\n",
    "from sklearn.metrics import accuracy_score,confusion_matrix\n",
    "from sklearn.metrics import mean_squared_error\n",
    "\n",
    "# Classificadores\n",
    "from sklearn.ensemble import RandomForestClassifier\n",
    "from sklearn.neighbors import KNeighborsClassifier\n",
    "from sklearn.neural_network import MLPClassifier"
   ]
  },
  {
   "cell_type": "code",
   "execution_count": 50,
   "metadata": {},
   "outputs": [
    {
     "name": "stdout",
     "output_type": "stream",
     "text": [
      "Versão do scikit-learn 0.21.2.\n"
     ]
    }
   ],
   "source": [
    "print('Versão do scikit-learn {}.'.format(sklearn.__version__))"
   ]
  },
  {
   "cell_type": "code",
   "execution_count": 51,
   "metadata": {},
   "outputs": [
    {
     "name": "stdout",
     "output_type": "stream",
     "text": [
      "(569, 30) (569,)\n"
     ]
    }
   ],
   "source": [
    "# Datasets\n",
    "dX_AllDatasets={}\n",
    "dy_AllDatasets={}\n",
    "\n",
    "# Breast Cancer\n",
    "data = load_breast_cancer()\n",
    "X,y = data.data,data.target\n",
    "dX_AllDatasets['breast_cancer']=X\n",
    "dy_AllDatasets['breast_cancer']=y\n",
    "\n",
    "print(X.shape, y.shape)"
   ]
  },
  {
   "cell_type": "code",
   "execution_count": 52,
   "metadata": {},
   "outputs": [],
   "source": [
    "class PerceptronPPCOMPClassifier(BaseEstimator, ClassifierMixin):\n",
    "    \n",
    "    def __init__(self):\n",
    "        return\n",
    "    \n",
    "    def predict(self, X):    \n",
    "        r = np.dot(X, self.w) + self.b\n",
    "        if np.isscalar(r):\n",
    "            if r>=0.0:\n",
    "                return 1.0\n",
    "            else:\n",
    "                return 0.0\n",
    "        else:            \n",
    "            for i in range(len(r)):\n",
    "                if r[i]>=0.0:\n",
    "                    r[i]=1.0\n",
    "                else:\n",
    "                    r[i]=0.0\n",
    "            return r\n",
    "            \n",
    "    def fit(self, X, y, e=100,learn_r=0.001):\n",
    "        # Inicializa pesos (w) e bias (b)\n",
    "        \n",
    "        # Inicializacao com Zeros (0)\n",
    "        #self.w = np.zeros((X.shape[1], )) # X.shape[1] = total de caracteristicas do dataset\n",
    "        #self.b = 0.0\n",
    "        \n",
    "        # Inicialização com valores aleatorios\n",
    "        #self.w = np.random.normal(size=X.shape[1])\n",
    "        self.w = np.random.random((X.shape[1], ))\n",
    "        self.b = np.random.random()\n",
    "        \n",
    "        for f in range(e):\n",
    "            error_conv = 0 # avaliar convergencia\n",
    "            for xi, yi in zip(X, y):\n",
    "                err = yi - self.predict(xi)\n",
    "                if err != 0:                    \n",
    "                    self.w += learn_r*err*xi # w <- w + α(y — f(x))x\n",
    "                    self.b += learn_r*err\n",
    "                    error_conv+=1\n",
    "            if error_conv == 0:\n",
    "                break\n",
    "        return self"
   ]
  },
  {
   "cell_type": "code",
   "execution_count": 53,
   "metadata": {},
   "outputs": [],
   "source": [
    "class PerformanceEvaluator():\n",
    "  def __init__(self, X, y,cv,scaler):\n",
    "    self.X=X\n",
    "    self.y=y\n",
    "    self.cv=cv\n",
    "    self.scaler=scaler\n",
    "  def score(self, pipe):\n",
    "    scores=cross_val_score(pipe, self.X,self.y, cv=self.cv) # (Stratified)KFold\n",
    "    return scores \n",
    "  def evaluate(self, clfs):\n",
    "    best_overal=0\n",
    "    for name,clf in clfs:\n",
    "        if self.scaler==True:\n",
    "            pipe = Pipeline(steps=[('scaler', StandardScaler()),\n",
    "                   ('classifier', clf)])\n",
    "        else:\n",
    "            pipe = clf\n",
    "        t_inicio = time.time()\n",
    "        scores=self.score(pipe)\n",
    "        t_fim = time.time()\n",
    "        print('Mean: %0.7f Std: %0.7f(+/-) Best: %0.7f Time: %.2f(s) [%s]' % (scores.mean(), scores.std(), scores.max(),t_fim-t_inicio,name))\n",
    "        if (scores.mean()>best_overal):\n",
    "            best_overal=scores.mean()\n",
    "            best_pipe=pipe\n",
    "            best_clf_name=name    \n",
    "    print('Best Estimator: ',best_clf_name)        \n",
    "    ### Matriz de Confusão ilustrativa para o melhor estimator\n",
    "    X_train, X_test, y_train, y_test = train_test_split(self.X, self.y, test_size=0.20)\n",
    "    best_pipe.fit(X_train,y_train)\n",
    "    y_p=best_pipe.predict(X_test)\n",
    "    conf_mat = confusion_matrix(y_test,y_p)\n",
    "    print(conf_mat)"
   ]
  },
  {
   "cell_type": "code",
   "execution_count": 54,
   "metadata": {},
   "outputs": [
    {
     "name": "stdout",
     "output_type": "stream",
     "text": [
      "Avaliação de Multiplos Classificadores x implementação do Perceptron (PerceptronPPCOMPClassifier)\n",
      "\n",
      "========================================\n",
      "breast_cancer\n",
      "----------------------------------------\n",
      "Mean: 0.8559446 Std: 0.0284887(+/-) Best: 0.8938053 Time: 0.86(s) [PerceptronPPCOMPClassifier]\n",
      "Mean: 0.9632628 Std: 0.0207368(+/-) Best: 0.9911504 Time: 0.46(s) [RandomForestClassifier]\n",
      "Mean: 0.9192920 Std: 0.0239354(+/-) Best: 0.9469027 Time: 0.02(s) [KNeighborsClassifier]\n",
      "Mean: 0.8855406 Std: 0.0312450(+/-) Best: 0.9217391 Time: 0.25(s) [MLP]\n",
      "Best Estimator:  RandomForestClassifier\n",
      "[[43  1]\n",
      " [ 4 66]]\n"
     ]
    }
   ],
   "source": [
    "print (\"Avaliação de Multiplos Classificadores x implementação do Perceptron (PerceptronPPCOMPClassifier)\")\n",
    "\n",
    "# Classificadores de interesse com respectivos hyper-parametros\n",
    "clfs = [\n",
    "    ('PerceptronPPCOMPClassifier',PerceptronPPCOMPClassifier()),\n",
    "    ('RandomForestClassifier',RandomForestClassifier(100)),\n",
    "    ('KNeighborsClassifier',KNeighborsClassifier(n_neighbors=3)),\n",
    "    ('MLP',MLPClassifier(max_iter=500,early_stopping=True,hidden_layer_sizes=(100,20,)))\n",
    "]\n",
    "\n",
    "### Parametros complementaras ###\n",
    "# cross-validation folds\n",
    "cv = 5\n",
    "# habilita ou nao scaler (standard scaler)\n",
    "scaler = False\n",
    "#################################\n",
    "\n",
    "for key in dX_AllDatasets.keys():\n",
    "    print(\"\\n\" +\"=\"*40)\n",
    "    print(key)\n",
    "    print(\"-\"*40)    \n",
    "    X,y=dX_AllDatasets[key],dy_AllDatasets[key]\n",
    "    pe = PerformanceEvaluator(X,y,cv,scaler)\n",
    "    pe.evaluate(clfs)\n"
   ]
  },
  {
   "cell_type": "code",
   "execution_count": null,
   "metadata": {},
   "outputs": [],
   "source": []
  }
 ],
 "metadata": {
  "kernelspec": {
   "display_name": "Python 3",
   "language": "python",
   "name": "python3"
  },
  "language_info": {
   "codemirror_mode": {
    "name": "ipython",
    "version": 3
   },
   "file_extension": ".py",
   "mimetype": "text/x-python",
   "name": "python",
   "nbconvert_exporter": "python",
   "pygments_lexer": "ipython3",
   "version": "3.7.3"
  }
 },
 "nbformat": 4,
 "nbformat_minor": 2
}
